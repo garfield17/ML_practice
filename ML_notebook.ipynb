{
  "nbformat": 4,
  "nbformat_minor": 0,
  "metadata": {
    "colab": {
      "name": "Распознавание лиц.ipynb",
      "provenance": []
    },
    "kernelspec": {
      "name": "python3",
      "display_name": "Python 3"
    },
    "language_info": {
      "name": "python"
    }
  },
  "cells": [
    {
      "cell_type": "markdown",
      "source": [
        "# Самый базовый алгоритм.\n"
      ],
      "metadata": {
        "id": "IPn9mOxbIZh2"
      }
    },
    {
      "cell_type": "markdown",
      "source": [
        "Сначала подключим все нужные библиотеки."
      ],
      "metadata": {
        "id": "MVTpUq9q2R_n"
      }
    },
    {
      "cell_type": "code",
      "execution_count": null,
      "metadata": {
        "id": "o2fJd1Si2I6g"
      },
      "outputs": [],
      "source": [
        "%matplotlib inline\n",
        "import numpy as np\n",
        "import matplotlib.pyplot as plt\n",
        "\n",
        "import os\n",
        "import cv2\n",
        "\n",
        "from sklearn.linear_model import LogisticRegression\n",
        "import pandas as pd\n",
        "import sklearn\n",
        "\n",
        "# use seaborn plotting defaults\n",
        "import seaborn as sns; sns.set()"
      ]
    },
    {
      "cell_type": "markdown",
      "source": [
        "Загрузим датасет и сформируем выборку для решения задачи"
      ],
      "metadata": {
        "id": "BOZqJZzH2idy"
      }
    },
    {
      "cell_type": "code",
      "source": [
        "import glob\n",
        "from google.colab import drive\n",
        "drive.mount('/gdrive', force_remount=True)"
      ],
      "metadata": {
        "colab": {
          "base_uri": "https://localhost:8080/"
        },
        "id": "7kh47fEE23cO",
        "outputId": "eae6c9b5-7e1e-4403-cc19-41019eff12bf"
      },
      "execution_count": null,
      "outputs": [
        {
          "output_type": "stream",
          "name": "stdout",
          "text": [
            "Mounted at /gdrive\n"
          ]
        }
      ]
    },
    {
      "cell_type": "markdown",
      "source": [
        "Загрузим тренировочные данные с Google Drive и извлечем номера классов из названий изображений."
      ],
      "metadata": {
        "id": "9LeRDi2W28hj"
      }
    },
    {
      "cell_type": "code",
      "source": [
        "from tqdm import tqdm\n",
        "\n",
        "dirname = \"/gdrive/My Drive/Kaggle/train\"\n",
        "\n",
        "Xtrain, ytrain = [], []\n",
        "\n",
        "for fname in tqdm(os.listdir(dirname)):\n",
        "    img = cv2.imread(os.path.join(dirname, fname), cv2.IMREAD_GRAYSCALE)\n",
        "    ytrain.append(int(fname[-6:-1][0:2]))\n",
        "        \n",
        "    h, w = img.shape\n",
        "    size = min(h, w)\n",
        "    h0 = int((h - size) / 2)\n",
        "    w0 = int((w - size) / 2)\n",
        "        \n",
        "    img = img[h0: h0 + size, w0: w0 + size]\n",
        "    img = cv2.resize(img, (64, 64), interpolation = cv2.INTER_AREA)\n",
        "        \n",
        "    Xtrain.append(img)\n",
        "\n",
        "len(Xtrain), len(ytrain)"
      ],
      "metadata": {
        "colab": {
          "base_uri": "https://localhost:8080/"
        },
        "id": "bVJqV9RR3A14",
        "outputId": "c9a431c3-fa9c-4252-8e0a-7d7c04120853"
      },
      "execution_count": null,
      "outputs": [
        {
          "output_type": "stream",
          "name": "stderr",
          "text": [
            "100%|██████████| 621/621 [00:02<00:00, 304.36it/s]\n"
          ]
        },
        {
          "output_type": "execute_result",
          "data": {
            "text/plain": [
              "(621, 621)"
            ]
          },
          "metadata": {},
          "execution_count": 48
        }
      ]
    },
    {
      "cell_type": "markdown",
      "source": [
        "Загрузим тестовые изображения из Google Drive.\n",
        "\n",
        "Тестовые изображения загружаются в произвольном порядке, поэтому сделаем сортировку по номерам, указанным в названиях изображений."
      ],
      "metadata": {
        "id": "Hcnhzo7i5Z6a"
      }
    },
    {
      "cell_type": "code",
      "source": [
        "def sort_by_index(fname):\n",
        "  s = fname\n",
        "  s = s.replace('img', '', 1)\n",
        "  s = s.replace('.jpg', '', 1)\n",
        "  str1 = ''\n",
        "  for i in s:\n",
        "    if i.isdigit():\n",
        "      str1 += i\n",
        "    else:\n",
        "      break\n",
        "  return int(str1)\n"
      ],
      "metadata": {
        "id": "62B1ZErE5dLZ"
      },
      "execution_count": null,
      "outputs": []
    },
    {
      "cell_type": "code",
      "source": [
        "from tqdm import tqdm\n",
        "\n",
        "dirname = \"/gdrive/My Drive/Kaggle/test\"\n",
        "\n",
        "Xtest = []\n",
        "Names = []\n",
        "\n",
        "for fname in tqdm(sorted(os.listdir(dirname), key=sort_by_index)):\n",
        "    img = cv2.imread(os.path.join(dirname, fname), cv2.IMREAD_GRAYSCALE)\n",
        "    Names.append(fname)\n",
        "        \n",
        "    h, w = img.shape\n",
        "    size = min(h, w)\n",
        "    h0 = int((h - size) / 2)\n",
        "    w0 = int((w - size) / 2)\n",
        "        \n",
        "    img = img[h0: h0 + size, w0: w0 + size]\n",
        "    img = cv2.resize(img, (64, 64), interpolation = cv2.INTER_AREA)\n",
        "        \n",
        "    Xtest.append(img)\n",
        "\n",
        "len(Xtest)"
      ],
      "metadata": {
        "colab": {
          "base_uri": "https://localhost:8080/"
        },
        "id": "5XIpvrV75xWT",
        "outputId": "a2c5565c-1bf3-4360-d285-8c6a4bf69f9e"
      },
      "execution_count": null,
      "outputs": [
        {
          "output_type": "stream",
          "name": "stderr",
          "text": [
            "100%|██████████| 4150/4150 [00:37<00:00, 110.63it/s]\n"
          ]
        },
        {
          "output_type": "execute_result",
          "data": {
            "text/plain": [
              "4150"
            ]
          },
          "metadata": {},
          "execution_count": 56
        }
      ]
    },
    {
      "cell_type": "markdown",
      "source": [
        "Обучим baseline-модель (логистическую регрессию без дополнительных шагов) и сделаем предсказание."
      ],
      "metadata": {
        "id": "YHW7ulx0Fu-0"
      }
    },
    {
      "cell_type": "code",
      "source": [
        "from sklearn.linear_model import LogisticRegression\n",
        "\n",
        "Xtrain = np.asarray([el.ravel() for el in Xtrain])\n",
        "\n",
        "model_lr = LogisticRegression()\n",
        "model_lr.fit(Xtrain, ytrain)"
      ],
      "metadata": {
        "colab": {
          "base_uri": "https://localhost:8080/"
        },
        "id": "tGQ2Hx7LFxpS",
        "outputId": "9befaf8c-3da5-4747-e093-2a5b19aaddcc"
      },
      "execution_count": null,
      "outputs": [
        {
          "output_type": "stream",
          "name": "stderr",
          "text": [
            "/usr/local/lib/python3.7/dist-packages/sklearn/linear_model/_logistic.py:818: ConvergenceWarning: lbfgs failed to converge (status=1):\n",
            "STOP: TOTAL NO. of ITERATIONS REACHED LIMIT.\n",
            "\n",
            "Increase the number of iterations (max_iter) or scale the data as shown in:\n",
            "    https://scikit-learn.org/stable/modules/preprocessing.html\n",
            "Please also refer to the documentation for alternative solver options:\n",
            "    https://scikit-learn.org/stable/modules/linear_model.html#logistic-regression\n",
            "  extra_warning_msg=_LOGISTIC_SOLVER_CONVERGENCE_MSG,\n"
          ]
        },
        {
          "output_type": "execute_result",
          "data": {
            "text/plain": [
              "LogisticRegression()"
            ]
          },
          "metadata": {},
          "execution_count": 57
        }
      ]
    },
    {
      "cell_type": "code",
      "source": [
        "Xtest = np.asarray([el.ravel() for el in Xtest])\n",
        "pred_lr = model_lr.predict(Xtest)"
      ],
      "metadata": {
        "id": "PKE3jw8oF5AX"
      },
      "execution_count": null,
      "outputs": []
    },
    {
      "cell_type": "markdown",
      "source": [
        "Сохраним предсказание в виде, который требуется в соревновании и сохраним файл с предсказаниями."
      ],
      "metadata": {
        "id": "qhh6ITgGGCZ4"
      }
    },
    {
      "cell_type": "code",
      "source": [
        "import pandas as pd\n",
        "\n",
        "pred_df = pd.DataFrame(list(zip(Names, pred_lr)), columns = ['img', 'label'])\n",
        "pred_df.head()"
      ],
      "metadata": {
        "colab": {
          "base_uri": "https://localhost:8080/",
          "height": 206
        },
        "id": "qDNSz7--GEWA",
        "outputId": "3979fc2c-a41c-414f-c4b9-3ae4aadd05de"
      },
      "execution_count": null,
      "outputs": [
        {
          "output_type": "execute_result",
          "data": {
            "text/plain": [
              "        img  label\n",
              "0  img0.jpg      1\n",
              "1  img1.jpg     17\n",
              "2  img2.jpg     11\n",
              "3  img3.jpg     16\n",
              "4  img4.jpg     16"
            ],
            "text/html": [
              "\n",
              "  <div id=\"df-97bd64d0-21c2-486e-a76d-2016e470cd63\">\n",
              "    <div class=\"colab-df-container\">\n",
              "      <div>\n",
              "<style scoped>\n",
              "    .dataframe tbody tr th:only-of-type {\n",
              "        vertical-align: middle;\n",
              "    }\n",
              "\n",
              "    .dataframe tbody tr th {\n",
              "        vertical-align: top;\n",
              "    }\n",
              "\n",
              "    .dataframe thead th {\n",
              "        text-align: right;\n",
              "    }\n",
              "</style>\n",
              "<table border=\"1\" class=\"dataframe\">\n",
              "  <thead>\n",
              "    <tr style=\"text-align: right;\">\n",
              "      <th></th>\n",
              "      <th>img</th>\n",
              "      <th>label</th>\n",
              "    </tr>\n",
              "  </thead>\n",
              "  <tbody>\n",
              "    <tr>\n",
              "      <th>0</th>\n",
              "      <td>img0.jpg</td>\n",
              "      <td>1</td>\n",
              "    </tr>\n",
              "    <tr>\n",
              "      <th>1</th>\n",
              "      <td>img1.jpg</td>\n",
              "      <td>17</td>\n",
              "    </tr>\n",
              "    <tr>\n",
              "      <th>2</th>\n",
              "      <td>img2.jpg</td>\n",
              "      <td>11</td>\n",
              "    </tr>\n",
              "    <tr>\n",
              "      <th>3</th>\n",
              "      <td>img3.jpg</td>\n",
              "      <td>16</td>\n",
              "    </tr>\n",
              "    <tr>\n",
              "      <th>4</th>\n",
              "      <td>img4.jpg</td>\n",
              "      <td>16</td>\n",
              "    </tr>\n",
              "  </tbody>\n",
              "</table>\n",
              "</div>\n",
              "      <button class=\"colab-df-convert\" onclick=\"convertToInteractive('df-97bd64d0-21c2-486e-a76d-2016e470cd63')\"\n",
              "              title=\"Convert this dataframe to an interactive table.\"\n",
              "              style=\"display:none;\">\n",
              "        \n",
              "  <svg xmlns=\"http://www.w3.org/2000/svg\" height=\"24px\"viewBox=\"0 0 24 24\"\n",
              "       width=\"24px\">\n",
              "    <path d=\"M0 0h24v24H0V0z\" fill=\"none\"/>\n",
              "    <path d=\"M18.56 5.44l.94 2.06.94-2.06 2.06-.94-2.06-.94-.94-2.06-.94 2.06-2.06.94zm-11 1L8.5 8.5l.94-2.06 2.06-.94-2.06-.94L8.5 2.5l-.94 2.06-2.06.94zm10 10l.94 2.06.94-2.06 2.06-.94-2.06-.94-.94-2.06-.94 2.06-2.06.94z\"/><path d=\"M17.41 7.96l-1.37-1.37c-.4-.4-.92-.59-1.43-.59-.52 0-1.04.2-1.43.59L10.3 9.45l-7.72 7.72c-.78.78-.78 2.05 0 2.83L4 21.41c.39.39.9.59 1.41.59.51 0 1.02-.2 1.41-.59l7.78-7.78 2.81-2.81c.8-.78.8-2.07 0-2.86zM5.41 20L4 18.59l7.72-7.72 1.47 1.35L5.41 20z\"/>\n",
              "  </svg>\n",
              "      </button>\n",
              "      \n",
              "  <style>\n",
              "    .colab-df-container {\n",
              "      display:flex;\n",
              "      flex-wrap:wrap;\n",
              "      gap: 12px;\n",
              "    }\n",
              "\n",
              "    .colab-df-convert {\n",
              "      background-color: #E8F0FE;\n",
              "      border: none;\n",
              "      border-radius: 50%;\n",
              "      cursor: pointer;\n",
              "      display: none;\n",
              "      fill: #1967D2;\n",
              "      height: 32px;\n",
              "      padding: 0 0 0 0;\n",
              "      width: 32px;\n",
              "    }\n",
              "\n",
              "    .colab-df-convert:hover {\n",
              "      background-color: #E2EBFA;\n",
              "      box-shadow: 0px 1px 2px rgba(60, 64, 67, 0.3), 0px 1px 3px 1px rgba(60, 64, 67, 0.15);\n",
              "      fill: #174EA6;\n",
              "    }\n",
              "\n",
              "    [theme=dark] .colab-df-convert {\n",
              "      background-color: #3B4455;\n",
              "      fill: #D2E3FC;\n",
              "    }\n",
              "\n",
              "    [theme=dark] .colab-df-convert:hover {\n",
              "      background-color: #434B5C;\n",
              "      box-shadow: 0px 1px 3px 1px rgba(0, 0, 0, 0.15);\n",
              "      filter: drop-shadow(0px 1px 2px rgba(0, 0, 0, 0.3));\n",
              "      fill: #FFFFFF;\n",
              "    }\n",
              "  </style>\n",
              "\n",
              "      <script>\n",
              "        const buttonEl =\n",
              "          document.querySelector('#df-97bd64d0-21c2-486e-a76d-2016e470cd63 button.colab-df-convert');\n",
              "        buttonEl.style.display =\n",
              "          google.colab.kernel.accessAllowed ? 'block' : 'none';\n",
              "\n",
              "        async function convertToInteractive(key) {\n",
              "          const element = document.querySelector('#df-97bd64d0-21c2-486e-a76d-2016e470cd63');\n",
              "          const dataTable =\n",
              "            await google.colab.kernel.invokeFunction('convertToInteractive',\n",
              "                                                     [key], {});\n",
              "          if (!dataTable) return;\n",
              "\n",
              "          const docLinkHtml = 'Like what you see? Visit the ' +\n",
              "            '<a target=\"_blank\" href=https://colab.research.google.com/notebooks/data_table.ipynb>data table notebook</a>'\n",
              "            + ' to learn more about interactive tables.';\n",
              "          element.innerHTML = '';\n",
              "          dataTable['output_type'] = 'display_data';\n",
              "          await google.colab.output.renderOutput(dataTable, element);\n",
              "          const docLink = document.createElement('div');\n",
              "          docLink.innerHTML = docLinkHtml;\n",
              "          element.appendChild(docLink);\n",
              "        }\n",
              "      </script>\n",
              "    </div>\n",
              "  </div>\n",
              "  "
            ]
          },
          "metadata": {},
          "execution_count": 59
        }
      ]
    },
    {
      "cell_type": "code",
      "source": [
        "pred_df.to_csv(\"first_submission.csv\", index=False)"
      ],
      "metadata": {
        "id": "NHPwtNOnGI7d"
      },
      "execution_count": null,
      "outputs": []
    },
    {
      "cell_type": "markdown",
      "source": [
        "Результат на Kaggle - 0,39. Хочется получше."
      ],
      "metadata": {
        "id": "SgsAqObNImQu"
      }
    },
    {
      "cell_type": "markdown",
      "source": [
        "# Улучшим алгоритм с помощью Аугментации и снижения размерности."
      ],
      "metadata": {
        "id": "SukFiDsXI6gg"
      }
    },
    {
      "cell_type": "markdown",
      "source": [
        ""
      ],
      "metadata": {
        "id": "l2j1BgopJKGs"
      }
    },
    {
      "cell_type": "code",
      "source": [
        "%matplotlib inline\n",
        "import numpy as np\n",
        "import matplotlib.pyplot as plt\n",
        "\n",
        "import os\n",
        "import cv2\n",
        "\n",
        "from sklearn.linear_model import LogisticRegression\n",
        "import pandas as pd\n",
        "import sklearn\n",
        "\n",
        "# use seaborn plotting defaults\n",
        "import seaborn as sns; sns.set()"
      ],
      "metadata": {
        "id": "-0fgFlm8JdSP"
      },
      "execution_count": null,
      "outputs": []
    },
    {
      "cell_type": "code",
      "source": [
        "import glob\n",
        "from google.colab import drive\n",
        "drive.mount('/gdrive', force_remount=True)"
      ],
      "metadata": {
        "colab": {
          "base_uri": "https://localhost:8080/"
        },
        "id": "GSj_HVEuJe6C",
        "outputId": "26600a67-3cbb-4eaf-9929-a5ecbdf2d77d"
      },
      "execution_count": null,
      "outputs": [
        {
          "output_type": "stream",
          "name": "stdout",
          "text": [
            "Mounted at /gdrive\n"
          ]
        }
      ]
    },
    {
      "cell_type": "code",
      "source": [
        "from tqdm import tqdm\n",
        "\n",
        "dirname = \"/gdrive/My Drive/Kaggle/train\"\n",
        "\n",
        "Xtrain, ytrain = [], []\n",
        "\n",
        "for fname in tqdm(os.listdir(dirname)):\n",
        "    img = cv2.imread(os.path.join(dirname, fname), cv2.IMREAD_GRAYSCALE)\n",
        "    ytrain.append(int(fname[-6:-1][0:2]))\n",
        "        \n",
        "    h, w = img.shape\n",
        "    size = min(h, w)\n",
        "    h0 = int((h - size) / 2)\n",
        "    w0 = int((w - size) / 2)\n",
        "        \n",
        "    img = img[h0: h0 + size, w0: w0 + size]\n",
        "    img = cv2.resize(img, (64, 64), interpolation = cv2.INTER_AREA)\n",
        "        \n",
        "    Xtrain.append(img)\n",
        "\n",
        "len(Xtrain), len(ytrain)"
      ],
      "metadata": {
        "colab": {
          "base_uri": "https://localhost:8080/"
        },
        "id": "1nrXITRZJo3U",
        "outputId": "3b6cf7d3-899d-4bea-e0c9-38bf0ac06790"
      },
      "execution_count": null,
      "outputs": [
        {
          "output_type": "stream",
          "name": "stderr",
          "text": [
            "100%|██████████| 621/621 [00:01<00:00, 347.79it/s]\n"
          ]
        },
        {
          "output_type": "execute_result",
          "data": {
            "text/plain": [
              "(621, 621)"
            ]
          },
          "metadata": {},
          "execution_count": 62
        }
      ]
    },
    {
      "cell_type": "code",
      "source": [
        "def sort_by_index(fname):\n",
        "  s = fname\n",
        "  s = s.replace('img', '', 1)\n",
        "  s = s.replace('.jpg', '', 1)\n",
        "  str1 = ''\n",
        "  for i in s:\n",
        "    if i.isdigit():\n",
        "      str1 += i\n",
        "    else:\n",
        "      break\n",
        "  return int(str1)"
      ],
      "metadata": {
        "id": "s4TdGbBSL4YC"
      },
      "execution_count": null,
      "outputs": []
    },
    {
      "cell_type": "code",
      "source": [
        "from tqdm import tqdm\n",
        "\n",
        "dirname = \"/gdrive/My Drive/Kaggle/test\"\n",
        "\n",
        "Xtest = []\n",
        "Names = []\n",
        "\n",
        "for fname in tqdm(sorted(os.listdir(dirname), key=sort_by_index)):\n",
        "    img = cv2.imread(os.path.join(dirname, fname), cv2.IMREAD_GRAYSCALE)\n",
        "    Names.append(fname)\n",
        "        \n",
        "    h, w = img.shape\n",
        "    size = min(h, w)\n",
        "    h0 = int((h - size) / 2)\n",
        "    w0 = int((w - size) / 2)\n",
        "        \n",
        "    img = img[h0: h0 + size, w0: w0 + size]\n",
        "    img = cv2.resize(img, (64, 64), interpolation = cv2.INTER_AREA)\n",
        "        \n",
        "    Xtest.append(img)\n",
        "\n",
        "len(Xtest)"
      ],
      "metadata": {
        "colab": {
          "base_uri": "https://localhost:8080/"
        },
        "id": "Wlrrq3t4L47u",
        "outputId": "021ce88d-88c9-44c5-ec0d-c7757a13f912"
      },
      "execution_count": null,
      "outputs": [
        {
          "output_type": "stream",
          "name": "stderr",
          "text": [
            "100%|██████████| 4150/4150 [00:12<00:00, 332.42it/s]\n"
          ]
        },
        {
          "output_type": "execute_result",
          "data": {
            "text/plain": [
              "4150"
            ]
          },
          "metadata": {},
          "execution_count": 64
        }
      ]
    },
    {
      "cell_type": "code",
      "source": [
        "import random\n",
        "import albumentations as A\n",
        "\n",
        "from albumentations import (\n",
        "    HorizontalFlip, IAAPerspective, ShiftScaleRotate, CLAHE, RandomRotate90,\n",
        "    Transpose, ShiftScaleRotate, Blur, OpticalDistortion, GridDistortion, HueSaturationValue,\n",
        "    IAAAdditiveGaussianNoise, GaussNoise, MotionBlur, MedianBlur, IAAPiecewiseAffine,\n",
        "    IAASharpen, IAAEmboss, RandomBrightnessContrast, Flip, OneOf, Compose\n",
        ")\n",
        "\n",
        "def get_aug(image):\n",
        "    angle = np.arange(-10,11,1)\n",
        "    angle0 = random.choice(angle)\n",
        "\n",
        "    shift = 0.01*np.arange(-10,11,1)\n",
        "    shift0 = random.choice(shift)\n",
        "\n",
        "    transform = A.ShiftScaleRotate(shift_limit=shift0,rotate_limit=angle0,scale_limit=0,p=0.5)\n",
        "    \n",
        "    augmented_image = transform(image=image)['image']\n",
        "\n",
        "    transform = A.HorizontalFlip(p=0.5)\n",
        "\n",
        "    return transform(image=augmented_image)['image']"
      ],
      "metadata": {
        "id": "EsZCCeBKXH1z"
      },
      "execution_count": null,
      "outputs": []
    },
    {
      "cell_type": "code",
      "source": [
        "XtrainAug = []\n",
        "ytrainAug = []\n",
        "\n",
        "for (a,b) in zip(Xtrain,ytrain):\n",
        "    for i in range(5):\n",
        "      XtrainAug.append(get_aug(a))\n",
        "      ytrainAug.append(b)"
      ],
      "metadata": {
        "id": "Wa0UaECBXNvI"
      },
      "execution_count": null,
      "outputs": []
    },
    {
      "cell_type": "code",
      "source": [
        "XtrainAug = np.asarray([el.ravel() for el in XtrainAug])\n",
        "Xtest = np.asarray([el.ravel() for el in Xtest])"
      ],
      "metadata": {
        "id": "VTLUlNfraX7K"
      },
      "execution_count": null,
      "outputs": []
    },
    {
      "cell_type": "code",
      "source": [
        "XtrainAug.shape"
      ],
      "metadata": {
        "colab": {
          "base_uri": "https://localhost:8080/"
        },
        "id": "S7QHUPCjaYKF",
        "outputId": "6b673af9-c8ab-4fd9-e399-6d6b22e7051e"
      },
      "execution_count": null,
      "outputs": [
        {
          "output_type": "execute_result",
          "data": {
            "text/plain": [
              "(6210, 4096)"
            ]
          },
          "metadata": {},
          "execution_count": 68
        }
      ]
    },
    {
      "cell_type": "code",
      "source": [
        "from sklearn.svm import SVC\n",
        "from sklearn.decomposition import PCA, KernelPCA #Principal Components Analysis\n",
        "from sklearn.pipeline import make_pipeline\n",
        "\n",
        "pca = KernelPCA(n_components=3105, kernel='poly')\n",
        "model_lr = LogisticRegression()\n",
        "\n",
        "model = make_pipeline(pca, model_lr)\n",
        "\n",
        "model.fit(XtrainAug, ytrainAug)"
      ],
      "metadata": {
        "colab": {
          "base_uri": "https://localhost:8080/"
        },
        "id": "MCwTBrngMp64",
        "outputId": "0ad27be8-a121-4e3e-bc1b-a4392407cbc6"
      },
      "execution_count": null,
      "outputs": [
        {
          "output_type": "stream",
          "name": "stderr",
          "text": [
            "/usr/local/lib/python3.7/dist-packages/sklearn/linear_model/_logistic.py:818: ConvergenceWarning: lbfgs failed to converge (status=1):\n",
            "STOP: TOTAL NO. of ITERATIONS REACHED LIMIT.\n",
            "\n",
            "Increase the number of iterations (max_iter) or scale the data as shown in:\n",
            "    https://scikit-learn.org/stable/modules/preprocessing.html\n",
            "Please also refer to the documentation for alternative solver options:\n",
            "    https://scikit-learn.org/stable/modules/linear_model.html#logistic-regression\n",
            "  extra_warning_msg=_LOGISTIC_SOLVER_CONVERGENCE_MSG,\n"
          ]
        },
        {
          "output_type": "execute_result",
          "data": {
            "text/plain": [
              "Pipeline(steps=[('kernelpca', KernelPCA(kernel='poly', n_components=3105)),\n",
              "                ('logisticregression', LogisticRegression())])"
            ]
          },
          "metadata": {},
          "execution_count": 69
        }
      ]
    },
    {
      "cell_type": "code",
      "source": [
        "pred_lr = model.predict(Xtest)"
      ],
      "metadata": {
        "id": "6UEyID1rOhlR"
      },
      "execution_count": null,
      "outputs": []
    },
    {
      "cell_type": "code",
      "source": [
        "import pandas as pd\n",
        "\n",
        "pred_df = pd.DataFrame(list(zip(Names, pred_lr)), columns = ['img', 'label'])\n",
        "pred_df.head()"
      ],
      "metadata": {
        "colab": {
          "base_uri": "https://localhost:8080/",
          "height": 206
        },
        "id": "5fvsKYNWOy87",
        "outputId": "943ef96e-04c0-4465-eacd-e91f020b0bb9"
      },
      "execution_count": null,
      "outputs": [
        {
          "output_type": "execute_result",
          "data": {
            "text/plain": [
              "        img  label\n",
              "0  img0.jpg      1\n",
              "1  img1.jpg     17\n",
              "2  img2.jpg      7\n",
              "3  img3.jpg     18\n",
              "4  img4.jpg     16"
            ],
            "text/html": [
              "\n",
              "  <div id=\"df-f564fa94-56e6-4b15-9e3d-d5ebd4522bb6\">\n",
              "    <div class=\"colab-df-container\">\n",
              "      <div>\n",
              "<style scoped>\n",
              "    .dataframe tbody tr th:only-of-type {\n",
              "        vertical-align: middle;\n",
              "    }\n",
              "\n",
              "    .dataframe tbody tr th {\n",
              "        vertical-align: top;\n",
              "    }\n",
              "\n",
              "    .dataframe thead th {\n",
              "        text-align: right;\n",
              "    }\n",
              "</style>\n",
              "<table border=\"1\" class=\"dataframe\">\n",
              "  <thead>\n",
              "    <tr style=\"text-align: right;\">\n",
              "      <th></th>\n",
              "      <th>img</th>\n",
              "      <th>label</th>\n",
              "    </tr>\n",
              "  </thead>\n",
              "  <tbody>\n",
              "    <tr>\n",
              "      <th>0</th>\n",
              "      <td>img0.jpg</td>\n",
              "      <td>1</td>\n",
              "    </tr>\n",
              "    <tr>\n",
              "      <th>1</th>\n",
              "      <td>img1.jpg</td>\n",
              "      <td>17</td>\n",
              "    </tr>\n",
              "    <tr>\n",
              "      <th>2</th>\n",
              "      <td>img2.jpg</td>\n",
              "      <td>7</td>\n",
              "    </tr>\n",
              "    <tr>\n",
              "      <th>3</th>\n",
              "      <td>img3.jpg</td>\n",
              "      <td>18</td>\n",
              "    </tr>\n",
              "    <tr>\n",
              "      <th>4</th>\n",
              "      <td>img4.jpg</td>\n",
              "      <td>16</td>\n",
              "    </tr>\n",
              "  </tbody>\n",
              "</table>\n",
              "</div>\n",
              "      <button class=\"colab-df-convert\" onclick=\"convertToInteractive('df-f564fa94-56e6-4b15-9e3d-d5ebd4522bb6')\"\n",
              "              title=\"Convert this dataframe to an interactive table.\"\n",
              "              style=\"display:none;\">\n",
              "        \n",
              "  <svg xmlns=\"http://www.w3.org/2000/svg\" height=\"24px\"viewBox=\"0 0 24 24\"\n",
              "       width=\"24px\">\n",
              "    <path d=\"M0 0h24v24H0V0z\" fill=\"none\"/>\n",
              "    <path d=\"M18.56 5.44l.94 2.06.94-2.06 2.06-.94-2.06-.94-.94-2.06-.94 2.06-2.06.94zm-11 1L8.5 8.5l.94-2.06 2.06-.94-2.06-.94L8.5 2.5l-.94 2.06-2.06.94zm10 10l.94 2.06.94-2.06 2.06-.94-2.06-.94-.94-2.06-.94 2.06-2.06.94z\"/><path d=\"M17.41 7.96l-1.37-1.37c-.4-.4-.92-.59-1.43-.59-.52 0-1.04.2-1.43.59L10.3 9.45l-7.72 7.72c-.78.78-.78 2.05 0 2.83L4 21.41c.39.39.9.59 1.41.59.51 0 1.02-.2 1.41-.59l7.78-7.78 2.81-2.81c.8-.78.8-2.07 0-2.86zM5.41 20L4 18.59l7.72-7.72 1.47 1.35L5.41 20z\"/>\n",
              "  </svg>\n",
              "      </button>\n",
              "      \n",
              "  <style>\n",
              "    .colab-df-container {\n",
              "      display:flex;\n",
              "      flex-wrap:wrap;\n",
              "      gap: 12px;\n",
              "    }\n",
              "\n",
              "    .colab-df-convert {\n",
              "      background-color: #E8F0FE;\n",
              "      border: none;\n",
              "      border-radius: 50%;\n",
              "      cursor: pointer;\n",
              "      display: none;\n",
              "      fill: #1967D2;\n",
              "      height: 32px;\n",
              "      padding: 0 0 0 0;\n",
              "      width: 32px;\n",
              "    }\n",
              "\n",
              "    .colab-df-convert:hover {\n",
              "      background-color: #E2EBFA;\n",
              "      box-shadow: 0px 1px 2px rgba(60, 64, 67, 0.3), 0px 1px 3px 1px rgba(60, 64, 67, 0.15);\n",
              "      fill: #174EA6;\n",
              "    }\n",
              "\n",
              "    [theme=dark] .colab-df-convert {\n",
              "      background-color: #3B4455;\n",
              "      fill: #D2E3FC;\n",
              "    }\n",
              "\n",
              "    [theme=dark] .colab-df-convert:hover {\n",
              "      background-color: #434B5C;\n",
              "      box-shadow: 0px 1px 3px 1px rgba(0, 0, 0, 0.15);\n",
              "      filter: drop-shadow(0px 1px 2px rgba(0, 0, 0, 0.3));\n",
              "      fill: #FFFFFF;\n",
              "    }\n",
              "  </style>\n",
              "\n",
              "      <script>\n",
              "        const buttonEl =\n",
              "          document.querySelector('#df-f564fa94-56e6-4b15-9e3d-d5ebd4522bb6 button.colab-df-convert');\n",
              "        buttonEl.style.display =\n",
              "          google.colab.kernel.accessAllowed ? 'block' : 'none';\n",
              "\n",
              "        async function convertToInteractive(key) {\n",
              "          const element = document.querySelector('#df-f564fa94-56e6-4b15-9e3d-d5ebd4522bb6');\n",
              "          const dataTable =\n",
              "            await google.colab.kernel.invokeFunction('convertToInteractive',\n",
              "                                                     [key], {});\n",
              "          if (!dataTable) return;\n",
              "\n",
              "          const docLinkHtml = 'Like what you see? Visit the ' +\n",
              "            '<a target=\"_blank\" href=https://colab.research.google.com/notebooks/data_table.ipynb>data table notebook</a>'\n",
              "            + ' to learn more about interactive tables.';\n",
              "          element.innerHTML = '';\n",
              "          dataTable['output_type'] = 'display_data';\n",
              "          await google.colab.output.renderOutput(dataTable, element);\n",
              "          const docLink = document.createElement('div');\n",
              "          docLink.innerHTML = docLinkHtml;\n",
              "          element.appendChild(docLink);\n",
              "        }\n",
              "      </script>\n",
              "    </div>\n",
              "  </div>\n",
              "  "
            ]
          },
          "metadata": {},
          "execution_count": 71
        }
      ]
    },
    {
      "cell_type": "code",
      "source": [
        "pred_df.to_csv(\"submission3.csv\", index=False)"
      ],
      "metadata": {
        "id": "y4_jrPquO7ls"
      },
      "execution_count": null,
      "outputs": []
    },
    {
      "cell_type": "markdown",
      "source": [
        "Качество улучшилось и стало составлять 0,72."
      ],
      "metadata": {
        "id": "vMdywiFRvi0K"
      }
    }
  ]
}